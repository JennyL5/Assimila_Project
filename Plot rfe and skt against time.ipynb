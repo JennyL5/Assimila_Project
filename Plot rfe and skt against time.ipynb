import sys
sys.path.append("../helpers/")
import helpers

def on_button_clicked(b):
    h = helpers.Helpers(out)
    h.compare_rfe_skt_time(longitude.value, latitude.value, start.value, end.value)

#widgets 
w = helpers.Widgets()
latitude, longitude = w.get_lat_lon_widgets()
start = w.start_date()
end = w.end_date()
button = w.set_up_button(on_button_clicked)
w.display_widget([latitude, longitude, start, end, button])
out = w.display_output()
