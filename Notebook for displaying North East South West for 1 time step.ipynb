import sys
sys.path.append("../helpers/")
import helpers
from src.datacube.dq_database.db_view import DQDataBaseView

dqbv = DQDataBaseView()

def on_button_clicked(b):
    
    #call methods
    h = helpers.Helpers(out)
    h.color_map_nesw(product.value, subproduct.value, north.value,east.value, south.value, west.value,
                                                  date, hour)

w = helpers.Widgets()
product = w.get_all_products()
subproduct = w.subproduct()
north = w.get_north()
east = w.get_east()
south = w.get_south()
west = w.get_west()
date = w.get_date()
hour = w.get_hour()
button = w.set_up_button(on_button_clicked)
w.display_widget([product, subproduct, north, east, south, west, date, hour, button])


def update(*args):
    subproduct.options = dqbv.get_subproducts_from_product_name(product.value)
update()
product.observe(update)

out = w.display_output()
