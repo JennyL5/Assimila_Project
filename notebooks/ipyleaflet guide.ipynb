{
 "cells": [
  {
   "cell_type": "markdown",
   "metadata": {},
   "source": [
    "# ipyleaflet guide"
   ]
  },
  {
   "cell_type": "markdown",
   "metadata": {},
   "source": [
    "## Demo"
   ]
  },
  {
   "cell_type": "code",
   "execution_count": 1,
   "metadata": {
    "hide_input": true,
    "init_cell": true
   },
   "outputs": [
    {
     "data": {
      "application/vnd.jupyter.widget-view+json": {
       "model_id": "50ae1b54f1714803a08db155ef15cb14",
       "version_major": 2,
       "version_minor": 0
      },
      "text/plain": [
       "Label(value='')"
      ]
     },
     "metadata": {},
     "output_type": "display_data"
    },
    {
     "data": {
      "application/vnd.jupyter.widget-view+json": {
       "model_id": "3f35464b990845799306165e6737be7d",
       "version_major": 2,
       "version_minor": 0
      },
      "text/plain": [
       "Map(basemap={'url': 'https://{s}.tile.openstreetmap.org/{z}/{x}/{y}.png', 'max_zoom': 19, 'attribution': 'Map …"
      ]
     },
     "metadata": {},
     "output_type": "display_data"
    }
   ],
   "source": [
    "from ipyleaflet import (\n",
    "    Map,\n",
    "    Marker,\n",
    "    basemaps,\n",
    "    basemap_to_tiles,\n",
    "    TileLayer, ImageOverlay,\n",
    "    Polyline, Polygon, Rectangle, \n",
    "    GeoJSON, WidgetControl, \n",
    "    DrawControl, LayerGroup, FullScreenControl\n",
    ")\n",
    "\n",
    "from ipywidgets import IntSlider, ColorPicker, Button, link, Label\n",
    "\n",
    "\n",
    "#watercolor = basemap_to_tiles(basemaps.Stamen.Watercolor)\n",
    "m= Map(center=(10,0), zoom=2) #layout=dict(width='600px', height='400px')\n",
    "control = FullScreenControl()\n",
    "\n",
    "dc = DrawControl()\n",
    "dc.rectangle = {\n",
    "    'shapeOptions': {\n",
    "        'color': '#FF0000'}\n",
    "}\n",
    "dc.marker = {\n",
    "    \"shapeOptions\": {\n",
    "        \"fillColor\": \"#fca45d\",\n",
    "        \"color\": \"#fca45d\",\n",
    "        \"fillOpacity\": 1.0 }\n",
    "}\n",
    "\n",
    "dc.polyline={}\n",
    "dc.polygon={}\n",
    "dc.circlemarker={}\n",
    "\n",
    "# Create a group of layers and add it to the Map\n",
    "group = LayerGroup()\n",
    "m.add_layer(group)\n",
    "\n",
    "#given Africa: N: 38.25, S: -36.25, E: 53.25, W: -19.25\n",
    "africa = GeoJSON(data={'type': 'Feature', 'properties': {'name':\"Africa\", 'style': {'color': '#0000FF', 'clickable': True}}, \n",
    "                       'geometry': {'type': 'Polygon', 'coordinates': [[[-19,38], [53, 38], [53, -36], [-19, -36]]]}},  \n",
    "                 hover_style={'fillColor': '03449e'})\n",
    "group.add_layer(africa)\n",
    "\n",
    "#given Colombia: N: 13.75, S: -5.25, E: -62.75, W: -83.25\n",
    "colombia = GeoJSON(data={'type': 'Feature', 'properties': {'name': \"Colombia\", 'style': {'color': '#0000FF', 'clickable': True}}, \n",
    "                         'geometry': {'type': 'Polygon', 'coordinates': [[[-83,14], [-63, 14], [-63, -5], [-83, -5]]]}}, \n",
    "                   hover_style={'fillColor': '03449e'})\n",
    "group.add_layer(colombia)\n",
    "\n",
    "\n",
    "\n",
    "def handle_draw(self, action, geo_json):\n",
    "    #print(action)\n",
    "    #print(geo_json)\n",
    "    print(type(geo_json))\n",
    "    s = geo_json.get('geometry','type')\n",
    "    t = s.get('type')\n",
    "    \n",
    "    if t == 'Point':\n",
    "        north, east, south, west = get_coords_point(self, action, geo_json)\n",
    "        polygon_check(self, x, y)\n",
    "    \n",
    "    if t == 'Polygon':\n",
    "        north, east, south, west = get_coords_polygon(self, action, geo_json)\n",
    "        polygon_check(self, north, east, south, west)  \n",
    "    \n",
    "def get_coords_point(self, action, geo_json):\n",
    "    coords = (geo_json.get('geometry', 'Point'))\n",
    "    x = coords.get('coordinates')[0]\n",
    "    y = coords.get('coordinates')[1]\n",
    "    north = y\n",
    "    south = y\n",
    "    east = x\n",
    "    west = x\n",
    "    print('North: %s, East: %s, South %s, West: %s' % (north, east, south, west))\n",
    "    return x, y\n",
    "    \n",
    "def get_coords_polygon(self, action, geo_json): \n",
    "    poly = (geo_json.get('geometry', 'Polygon'))\n",
    "    coords = poly.get('coordinates')[0]\n",
    "    SW = coords[0]\n",
    "    NW = coords[1]\n",
    "    NE = coords[2]\n",
    "    SE = coords[3]    \n",
    "    #print('SW: %s, NW: %s, NE: %s, SE: %s' % (str(SW), str(NW), str(NE), str(SE)))\n",
    "    north = (NW[1] + NE[1])/2\n",
    "    east = (NE[0] + SE[0])/2\n",
    "    south = (SW[1] + SW [1])/2\n",
    "    west = (NW[0] + SW[0])/2\n",
    "    print ('North: %s, East: %s, South %s, West: %s' % (north, east, south, west))\n",
    "    return north, east, south, west\n",
    "\n",
    "\n",
    "def polygon_check(self, north, east, south, west):\n",
    "    #check it is within Africa N: 38.25, S: -36.25, E: 53.25, W: -19.25\n",
    "    if (north < 38.25 and east < 53.25 and south > (-36.25) and west > (-19.25)):\n",
    "        africa_check = True\n",
    "    else:\n",
    "            africa_check = False\n",
    "    \n",
    "    #check it is within Colombia: N: 13.75, S: -5.25, E: -62.75, W: -83.25\n",
    "    if (north < 13.75 and east < 62.75 and south > (-5.25) and west > (-83.25)):\n",
    "        columbia_check = True\n",
    "    else:\n",
    "            columbia_check = False\n",
    "    if columbia_check == False and africa_check == False:\n",
    "        raise ValueError ('Coordinates must be within the boxed boundaries.')\n",
    "        \n",
    "\n",
    "# mouse interaction handling\n",
    "label = Label()\n",
    "display(label)\n",
    "def handle_interaction(**kwargs):\n",
    "    if kwargs.get('type') == 'mousemove':\n",
    "        label.value = str(kwargs.get('coordinates'))\n",
    "m.on_interaction(handle_interaction)\n",
    "\n",
    "\n",
    "dc.on_draw(handle_draw)\n",
    "m.add_control(dc)\n",
    "m\n",
    "\n"
   ]
  },
  {
   "cell_type": "code",
   "execution_count": 2,
   "metadata": {
    "hide_input": true,
    "init_cell": true
   },
   "outputs": [],
   "source": [
    "\n",
    "from ipywidgets import IntSlider, ColorPicker, Button, link\n",
    "\n",
    "minimap = Map(\n",
    "    zoom_control=False, attribution_control=False, \n",
    "    zoom=1, center=m.center, basemap=basemaps.Stamen.Terrain\n",
    ")\n",
    "minimap.layout.width = '250px'\n",
    "minimap.layout.height = '150px'\n",
    "link((minimap, 'center'), (m, 'center'))\n",
    "minimap_control = WidgetControl(widget=minimap, position='bottomleft')\n",
    "m.add_control(minimap_control)\n"
   ]
  },
  {
   "cell_type": "markdown",
   "metadata": {},
   "source": [
    "## Guide"
   ]
  },
  {
   "cell_type": "markdown",
   "metadata": {},
   "source": [
    "#### Firstly, import ipyleaflet and ipywidgets with all necessary modules."
   ]
  },
  {
   "cell_type": "code",
   "execution_count": 3,
   "metadata": {
    "init_cell": true
   },
   "outputs": [],
   "source": [
    "from ipyleaflet import (\n",
    "    Map,\n",
    "    Marker,\n",
    "    basemaps,\n",
    "    basemap_to_tiles,\n",
    "    TileLayer, ImageOverlay,\n",
    "    Polyline, Polygon, Rectangle, \n",
    "    GeoJSON, WidgetControl, \n",
    "    DrawControl, LayerGroup, FullScreenControl\n",
    ")\n",
    "\n",
    "from ipywidgets import IntSlider, ColorPicker, Button, link, Label"
   ]
  },
  {
   "cell_type": "markdown",
   "metadata": {},
   "source": [
    "#### This creates the map layer, and you can specify the dimensions of the map.\n"
   ]
  },
  {
   "cell_type": "code",
   "execution_count": 4,
   "metadata": {
    "init_cell": true
   },
   "outputs": [],
   "source": [
    "m= Map(center=(10,0), zoom=2) #layout=dict(width='600px', height='400px')"
   ]
  },
  {
   "cell_type": "markdown",
   "metadata": {},
   "source": [
    "#### This gives the option to view in full screen mode instead of specifying the dimensions."
   ]
  },
  {
   "cell_type": "code",
   "execution_count": 5,
   "metadata": {
    "init_cell": true
   },
   "outputs": [],
   "source": [
    "control = FullScreenControl()\n",
    "dc = DrawControl()"
   ]
  },
  {
   "cell_type": "markdown",
   "metadata": {},
   "source": [
    "#### Enables rectangle drawing option"
   ]
  },
  {
   "cell_type": "code",
   "execution_count": 6,
   "metadata": {
    "init_cell": true
   },
   "outputs": [],
   "source": [
    "dc.rectangle = {\n",
    "    'shapeOptions': {\n",
    "        'color': '#FF0000'}\n",
    "}"
   ]
  },
  {
   "cell_type": "markdown",
   "metadata": {},
   "source": [
    "#### Enables to drop markers"
   ]
  },
  {
   "cell_type": "code",
   "execution_count": 7,
   "metadata": {
    "init_cell": true
   },
   "outputs": [],
   "source": [
    "dc.marker = {\n",
    "    \"shapeOptions\": {\n",
    "        \"fillColor\": \"#fca45d\",\n",
    "        \"color\": \"#fca45d\",\n",
    "        \"fillOpacity\": 1.0 }\n",
    "}"
   ]
  },
  {
   "cell_type": "markdown",
   "metadata": {},
   "source": [
    "#### Hide the other shapes you can draw"
   ]
  },
  {
   "cell_type": "code",
   "execution_count": 8,
   "metadata": {
    "init_cell": true
   },
   "outputs": [],
   "source": [
    "dc.polyline={}\n",
    "dc.polygon={}\n",
    "dc.circlemarker={}"
   ]
  },
  {
   "cell_type": "markdown",
   "metadata": {},
   "source": [
    "#### Draws polygons for bounded areas given coordinates (Africa and Colombia). The boundaries are then added to another layer called 'group'. Geo_JSON is used to represent the geographical features used for the map."
   ]
  },
  {
   "cell_type": "code",
   "execution_count": 25,
   "metadata": {
    "init_cell": true
   },
   "outputs": [],
   "source": [
    "# Create a group of layers and add it to the Map\n",
    "group = LayerGroup()\n",
    "m.add_layer(group)\n",
    "\n",
    "#given Africa: N: 38.25, S: -36.25, E: 53.25, W: -19.25\n",
    "africa = GeoJSON(data={'type': 'Feature', 'properties': {'name':\"Africa\", 'style': {'color': '#0000FF', 'clickable': True}}, \n",
    "                       'geometry': {'type': 'Polygon', 'coordinates': [[[-19,38], [53, 38], [53, -36], [-19, -36]]]}},  \n",
    "                 hover_style={'fillColor': '03449e'})\n",
    "group.add_layer(africa)\n",
    "\n",
    "#given Colombia: N: 13.75, S: -5.25, E: -62.75, W: -83.25\n",
    "colombia = GeoJSON(data={'type': 'Feature', 'properties': {'name': \"Colombia\", 'style': {'color': '#0000FF', 'clickable': True}}, \n",
    "                         'geometry': {'type': 'Polygon', 'coordinates': [[[-83,14], [-63, 14], [-63, -5], [-83, -5]]]}}, \n",
    "                   hover_style={'fillColor': '03449e'})\n",
    "group.add_layer(colombia)"
   ]
  },
  {
   "cell_type": "markdown",
   "metadata": {},
   "source": [
    "#### Method for handling the draw action. This gets the type of the shape, 'Point' is the marker and 'Polygon' is the rectangular box. Using the type to call different methods depending on tool used. Point reuqires x and y. Polygon requires north, east, south, west."
   ]
  },
  {
   "cell_type": "code",
   "execution_count": 10,
   "metadata": {
    "init_cell": true
   },
   "outputs": [],
   "source": [
    "\n",
    "def handle_draw(self, action, geo_json):\n",
    "    #print(action)\n",
    "    #print(geo_json)\n",
    "    s = geo_json.get('geometry','type')\n",
    "    t = s.get('type')\n",
    "    \n",
    "    if t == 'Point':\n",
    "        x, y = get_coords_point(self, action, geo_json)\n",
    "        point_check(self, x, y)\n",
    "    \n",
    "    if t == 'Polygon':\n",
    "        north, east, south, west = get_coords(self, action, geo_json)\n",
    "        polygon_check(self, north, east, south, west)  "
   ]
  },
  {
   "cell_type": "markdown",
   "metadata": {},
   "source": [
    "#### Method to get the coordinates of the drawn polygon. geo_JSON is a dict, so using .get and indexing to get the x and y values.\n",
    "#### The next method performs a check to see if the point selected is within the bounds."
   ]
  },
  {
   "cell_type": "code",
   "execution_count": 11,
   "metadata": {
    "init_cell": true
   },
   "outputs": [],
   "source": [
    "    \n",
    "def get_coords_point(self, action, geo_json):\n",
    "    coords = (geo_json.get('geometry', 'Point'))\n",
    "    x = coords.get('coordinates')[0]\n",
    "    y = coords.get('coordinates')[1]\n",
    "    print('X: %s, Y: %s'% (str(x), str(y)))\n",
    "    return x, y\n",
    "    \n",
    "def point_check(self, x, y):\n",
    "    #check it is within Africa N: 38.25, S: -36.25, E: 53.25, W: -19.25\n",
    "    if ((-36.25) < y < 38.25 and (-19.25) < x < 53.25):\n",
    "        africa_check = True\n",
    "    else:\n",
    "            africa_check = False\n",
    "    \n",
    "    #check it is within Colombia: N: 13.75, S: -5.25, E: -62.75, W: -83.25\n",
    "    if ((-5.25) < y < 13.75 and (-83.25) < x < 62.75):\n",
    "        columbia_check = True\n",
    "    else:\n",
    "            columbia_check = False\n",
    "\n",
    "    if columbia_check == False and africa_check == False:\n",
    "        raise ValueError ('Coordinates must be within the boxed boundaries.')\n",
    "    "
   ]
  },
  {
   "cell_type": "markdown",
   "metadata": {},
   "source": [
    "#### Method to get the coordinates of the drawn polygon. geo_JSON is a dict, so using .get and indexing to get the coordaintes, then split them into north, east, south, west.\n",
    "#### The next method performs a check to check if the area selected is within the bounds."
   ]
  },
  {
   "cell_type": "code",
   "execution_count": 12,
   "metadata": {
    "init_cell": true
   },
   "outputs": [],
   "source": [
    "def get_coords_polygon(self, action, geo_json): \n",
    "    poly = (geo_json.get('geometry', 'Polygon'))\n",
    "    coords = poly.get('coordinates')[0]\n",
    "    SW = coords[0]\n",
    "    NW = coords[1]\n",
    "    NE = coords[2]\n",
    "    SE = coords[3]    \n",
    "    print('SW: %s, NW: %s, NE: %s, SE: %s' % (str(SW), str(NW), str(NE), str(SE)))\n",
    "    north = (NW[1] + NE[1])/2\n",
    "    east = (NE[0] + SE[0])/2\n",
    "    south = (SW[1] + SW [1])/2\n",
    "    west = (NW[0] + SW[0])/2\n",
    "    print ('North: %s, East: %s, South %s, West: %s' % (north, east, south, west))\n",
    "    return north, east, south, west\n",
    "\n",
    "\n",
    "def polygon_check(self, north, east, south, west):\n",
    "    #check it is within Africa N: 38.25, S: -36.25, E: 53.25, W: -19.25\n",
    "    if (north < 38.25 and east < 53.25 and south > (-36.25) and west > (-19.25)):\n",
    "        africa_check = True\n",
    "    else:\n",
    "            africa_check = False\n",
    "    \n",
    "    #check it is within Colombia: N: 13.75, S: -5.25, E: -62.75, W: -83.25\n",
    "    if (north < 13.75 and east < 62.75 and south > (-5.25) and west > (-83.25)):\n",
    "        columbia_check = True\n",
    "    else:\n",
    "            columbia_check = False\n",
    "    if columbia_check == False and africa_check == False:\n",
    "        raise ValueError ('Coordinates must be within the boxed boundaries.')\n",
    "        "
   ]
  },
  {
   "cell_type": "markdown",
   "metadata": {},
   "source": [
    "#### Displays the coordiantes of location of where the mouse is hovering on the map."
   ]
  },
  {
   "cell_type": "code",
   "execution_count": 13,
   "metadata": {
    "init_cell": true
   },
   "outputs": [
    {
     "data": {
      "application/vnd.jupyter.widget-view+json": {
       "model_id": "3926a28ead094d7c9d71846292768f7b",
       "version_major": 2,
       "version_minor": 0
      },
      "text/plain": [
       "Label(value='')"
      ]
     },
     "metadata": {},
     "output_type": "display_data"
    }
   ],
   "source": [
    "label = Label()\n",
    "display(label)\n",
    "def handle_interaction(**kwargs):\n",
    "    if kwargs.get('type') == 'mousemove':\n",
    "        label.value = str(kwargs.get('coordinates'))\n",
    "m.on_interaction(handle_interaction)"
   ]
  },
  {
   "cell_type": "markdown",
   "metadata": {},
   "source": [
    "#### This adds an interactive zoom slider."
   ]
  },
  {
   "cell_type": "code",
   "execution_count": 14,
   "metadata": {
    "init_cell": true
   },
   "outputs": [
    {
     "data": {
      "application/vnd.jupyter.widget-view+json": {
       "model_id": "89e1ffa422194f81a1e2696afda7c2fc",
       "version_major": 2,
       "version_minor": 0
      },
      "text/plain": [
       "Box(children=(IntSlider(value=2, description='zoom', max=10),))"
      ]
     },
     "metadata": {},
     "output_type": "display_data"
    }
   ],
   "source": [
    "m.interact(zoom=(0,10,1))"
   ]
  },
  {
   "cell_type": "markdown",
   "metadata": {},
   "source": [
    "#### Calls method when action is performed and displays the map and the controls of it."
   ]
  },
  {
   "cell_type": "code",
   "execution_count": 15,
   "metadata": {
    "init_cell": true
   },
   "outputs": [
    {
     "data": {
      "application/vnd.jupyter.widget-view+json": {
       "model_id": "00eb6cc3e8134d06a99771cad779fab7",
       "version_major": 2,
       "version_minor": 0
      },
      "text/plain": [
       "Map(basemap={'url': 'https://{s}.tile.openstreetmap.org/{z}/{x}/{y}.png', 'max_zoom': 19, 'attribution': 'Map …"
      ]
     },
     "metadata": {},
     "output_type": "display_data"
    }
   ],
   "source": [
    "dc.on_draw(handle_draw)\n",
    "m.add_control(dc)\n",
    "m"
   ]
  },
  {
   "cell_type": "markdown",
   "metadata": {},
   "source": [
    "#### This adds a mini map which is linked to the original map and dsplayed at the bottom. "
   ]
  },
  {
   "cell_type": "code",
   "execution_count": 16,
   "metadata": {
    "init_cell": true
   },
   "outputs": [],
   "source": [
    "from ipywidgets import IntSlider, ColorPicker, Button, link\n",
    "\n",
    "minimap = Map(\n",
    "    zoom_control=False, attribution_control=False, \n",
    "    zoom=1, center=m.center, basemap=basemaps.Stamen.Terrain\n",
    ")\n",
    "minimap.layout.width = '250px'\n",
    "minimap.layout.height = '150px'\n",
    "link((minimap, 'center'), (m, 'center'))\n",
    "minimap_control = WidgetControl(widget=minimap, position='bottomleft')\n",
    "m.add_control(minimap_control)"
   ]
  },
  {
   "cell_type": "markdown",
   "metadata": {},
   "source": [
    "#### This is just an extra feature where 2 sliders are linked."
   ]
  },
  {
   "cell_type": "code",
   "execution_count": 23,
   "metadata": {
    "init_cell": true
   },
   "outputs": [
    {
     "data": {
      "application/vnd.jupyter.widget-view+json": {
       "model_id": "712120fc9608470fb9dd58cdf325b8b5",
       "version_major": 2,
       "version_minor": 0
      },
      "text/plain": [
       "IntSlider(value=0, description='Slider 1')"
      ]
     },
     "metadata": {},
     "output_type": "display_data"
    },
    {
     "data": {
      "application/vnd.jupyter.widget-view+json": {
       "model_id": "cecd7f00d3a1448c8999cd95db560014",
       "version_major": 2,
       "version_minor": 0
      },
      "text/plain": [
       "IntSlider(value=0, description='Slider 2')"
      ]
     },
     "metadata": {},
     "output_type": "display_data"
    }
   ],
   "source": [
    "sliders1, slider2 = widgets.IntSlider(description='Slider 1'),\\\n",
    "                    widgets.IntSlider(description='Slider 2')\n",
    "l = widgets.link((sliders1, 'value'), (slider2, 'value'))\n",
    "display( sliders1, slider2)"
   ]
  },
  {
   "cell_type": "code",
   "execution_count": null,
   "metadata": {},
   "outputs": [],
   "source": []
  }
 ],
 "metadata": {
  "celltoolbar": "Initialization Cell",
  "kernelspec": {
   "display_name": "Python 3",
   "language": "python",
   "name": "python3"
  },
  "language_info": {
   "codemirror_mode": {
    "name": "ipython",
    "version": 3
   },
   "file_extension": ".py",
   "mimetype": "text/x-python",
   "name": "python",
   "nbconvert_exporter": "python",
   "pygments_lexer": "ipython3",
   "version": "3.6.8"
  }
 },
 "nbformat": 4,
 "nbformat_minor": 2
}
