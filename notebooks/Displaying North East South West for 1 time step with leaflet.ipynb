{
 "cells": [
  {
   "cell_type": "markdown",
   "metadata": {},
   "source": [
    "# Displaying North East South West for 1 time step with leaflet"
   ]
  },
  {
   "cell_type": "code",
   "execution_count": 4,
   "metadata": {
    "hide_input": true,
    "init_cell": true
   },
   "outputs": [
    {
     "data": {
      "application/vnd.jupyter.widget-view+json": {
       "model_id": "95c8074212b84c7f9e8fb3b1d72afb17",
       "version_major": 2,
       "version_minor": 0
      },
      "text/plain": [
       "HBox(children=(VBox(children=(Dropdown(description='Product:', layout=Layout(height='30px', width='400px'), op…"
      ]
     },
     "metadata": {},
     "output_type": "display_data"
    },
    {
     "data": {
      "application/vnd.jupyter.widget-view+json": {
       "model_id": "215fa423280a49c98ed8ab65b8e267ad",
       "version_major": 2,
       "version_minor": 0
      },
      "text/plain": [
       "Label(value='')"
      ]
     },
     "metadata": {},
     "output_type": "display_data"
    },
    {
     "data": {
      "application/vnd.jupyter.widget-view+json": {
       "model_id": "8f1e84aff6274180995277e9ee0fab98",
       "version_major": 2,
       "version_minor": 0
      },
      "text/plain": [
       "Output()"
      ]
     },
     "metadata": {},
     "output_type": "display_data"
    }
   ],
   "source": [
    "import sys\n",
    "sys.path.append(\"../helpers/\")\n",
    "import helpers\n",
    "from src.datacube.dq_database.db_view import DQDataBaseView\n",
    "\n",
    "from ipyleaflet import (Map, Marker, basemaps, basemap_to_tiles, TileLayer, ImageOverlay,\n",
    "    Polyline, Polygon, Rectangle,  GeoJSON, WidgetControl, DrawControl, LayerGroup, FullScreenControl, interactive)\n",
    "\n",
    "from ipywidgets import IntSlider, ColorPicker, Button, link, Label, GridspecLayout, Layout, HBox, VBox, jslink\n",
    "import ipywidgets as widgets\n",
    "import datetime\n",
    "dqbv = DQDataBaseView()\n",
    "\n",
    "def on_button_clicked(b):\n",
    "    h = helpers.Helpers(out)\n",
    "    h.color_map_nesw(product.value, subproduct.value, north.value,east.value, south.value, west.value,\n",
    "                                                  date, hour)\n",
    "\n",
    "m = Map(center=(1, -5), zoom=2, layout=dict(width='400px', height='300px'))\n",
    "\n",
    "dc = DrawControl()\n",
    "m.add_control(dc)\n",
    "\n",
    "helpers.Helpers.prepare_map(dc, m)\n",
    "\n",
    "w = helpers.Widgets()\n",
    "product = w.get_all_products()\n",
    "subproduct = w.subproduct()\n",
    "north = w.get_point(38.0, 'North: ')\n",
    "east = w.get_point(53.0, 'East: ')\n",
    "south = w.get_point((-36), 'South: ')\n",
    "west = w.get_point((-19), 'West: ')\n",
    "date = w.get_date(datetime.datetime(2018,1,1), 'Date: ')\n",
    "hour = w.get_hour('00', 'Hour: ')\n",
    "button = w.set_up_button(on_button_clicked)\n",
    "w.display_widgets(product, subproduct, north, east, south, west, date, hour, button, m)\n",
    "\n",
    "label = Label()\n",
    "helpers.Helpers.mouse_interaction(m, label)\n",
    "\n",
    "def update_north(x):\n",
    "    w = helpers.Helpers.update_nesw(x)\n",
    "    l = widgets.link((w.children[0], 'value'), (north, 'value'))\n",
    "\n",
    "def update_east(x):\n",
    "    w = helpers.Helpers.update_nesw(x)\n",
    "    l = widgets.link((w.children[0], 'value'), (east, 'value'))\n",
    "\n",
    "def update_south(x):\n",
    "    w = helpers.Helpers.update_nesw(x)\n",
    "    l = widgets.link((w.children[0], 'value'), (south, 'value'))\n",
    "\n",
    "def update_west(x):\n",
    "    w = helpers.Helpers.update_nesw(x)\n",
    "    l = widgets.link((w.children[0], 'value'), (west, 'value'))    \n",
    "    \n",
    "\n",
    "def handle_draw(self, action, geo_json):\n",
    "    w = helpers.Widgets()\n",
    "    s = geo_json.get('geometry','type')\n",
    "    t = s.get('type')\n",
    "\n",
    "    h = helpers.Helpers(out)\n",
    "    if t == 'Point':\n",
    "        north, east, south, west = h.get_coords_point(action, geo_json)\n",
    "        update_north(north)\n",
    "        update_east(east)\n",
    "        update_south(south)\n",
    "        update_west(west)\n",
    "\n",
    "    if t == 'Polygon':\n",
    "        north, east, south, west = h.get_coords_polygon(action, geo_json)\n",
    "        update_north(north)\n",
    "        update_east(east)\n",
    "        update_south(south)\n",
    "        update_west(west)\n",
    "\n",
    "def update(*args):\n",
    "    subproduct.options = dqbv.get_subproducts_from_product_name(product.value)\n",
    "update()\n",
    "product.observe(update)\n",
    "\n",
    "out = w.display_output()\n",
    "\n",
    "dc.on_draw(handle_draw)\n"
   ]
  },
  {
   "cell_type": "code",
   "execution_count": null,
   "metadata": {
    "hide_input": false
   },
   "outputs": [],
   "source": []
  },
  {
   "cell_type": "code",
   "execution_count": null,
   "metadata": {},
   "outputs": [],
   "source": []
  }
 ],
 "metadata": {
  "celltoolbar": "Initialization Cell",
  "kernelspec": {
   "display_name": "Python 3",
   "language": "python",
   "name": "python3"
  },
  "language_info": {
   "codemirror_mode": {
    "name": "ipython",
    "version": 3
   },
   "file_extension": ".py",
   "mimetype": "text/x-python",
   "name": "python",
   "nbconvert_exporter": "python",
   "pygments_lexer": "ipython3",
   "version": "3.6.8"
  }
 },
 "nbformat": 4,
 "nbformat_minor": 2
}
