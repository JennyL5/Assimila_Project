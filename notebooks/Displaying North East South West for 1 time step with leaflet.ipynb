{
 "cells": [
  {
   "cell_type": "markdown",
   "metadata": {},
   "source": [
    "# Displaying North East South West for 1 time step with leaflet"
   ]
  },
  {
   "cell_type": "code",
   "execution_count": 5,
   "metadata": {
    "hide_input": true,
    "init_cell": true
   },
   "outputs": [
    {
     "data": {
      "application/vnd.jupyter.widget-view+json": {
       "model_id": "7e8ee1ada5464f5ba4ac900c3ea076c7",
       "version_major": 2,
       "version_minor": 0
      },
      "text/plain": [
       "HBox(children=(VBox(children=(Dropdown(description='Product:', layout=Layout(height='30px', width='400px'), op…"
      ]
     },
     "metadata": {},
     "output_type": "display_data"
    },
    {
     "data": {
      "application/vnd.jupyter.widget-view+json": {
       "model_id": "2fe5052e64ea45499082cd0d1ca27ca9",
       "version_major": 2,
       "version_minor": 0
      },
      "text/plain": [
       "Label(value='')"
      ]
     },
     "metadata": {},
     "output_type": "display_data"
    },
    {
     "data": {
      "application/vnd.jupyter.widget-view+json": {
       "model_id": "c8f24f1e323d42c78feb8e536b461c13",
       "version_major": 2,
       "version_minor": 0
      },
      "text/plain": [
       "Output()"
      ]
     },
     "metadata": {},
     "output_type": "display_data"
    }
   ],
   "source": [
    "import sys\n",
    "sys.path.append(\"../helpers/\")\n",
    "import helpers\n",
    "from src.datacube.dq_database.db_view import DQDataBaseView\n",
    "\n",
    "from ipyleaflet import (Map, Marker, basemaps, basemap_to_tiles, TileLayer, ImageOverlay,\n",
    "    Polyline, Polygon, Rectangle,  GeoJSON, WidgetControl, DrawControl, LayerGroup, FullScreenControl, interactive)\n",
    "\n",
    "from ipywidgets import IntSlider, ColorPicker, Button, link, Label, GridspecLayout, Layout, HBox, VBox, jslink\n",
    "import ipywidgets as widgets\n",
    "\n",
    "dqbv = DQDataBaseView()\n",
    "\n",
    "def on_button_clicked(b):\n",
    "    h = helpers.Helpers(out)\n",
    "    h.color_map_nesw(product.value, subproduct.value, north.value,east.value, south.value, west.value,\n",
    "                                                  date, hour)\n",
    "\n",
    "m = Map(center=(1, -5), zoom=2, layout=dict(width='400px', height='300px'))\n",
    "\n",
    "dc = DrawControl()\n",
    "\n",
    "helpers.Helpers.prepare_map(dc, m)\n",
    "\n",
    "w = helpers.Widgets()\n",
    "product = w.get_all_products()\n",
    "subproduct = w.subproduct()\n",
    "north = w.get_north()\n",
    "east = w.get_east()\n",
    "south = w.get_south()\n",
    "west = w.get_west()\n",
    "date = w.get_date()\n",
    "hour = w.get_hour()\n",
    "button = w.set_up_button(on_button_clicked)\n",
    "w.display_widgets(product, subproduct, north, east, south, west, date, hour, button, m)\n",
    "\n",
    "label = Label()\n",
    "helpers.Helpers.mouse_interaction(m, label)\n",
    "\n",
    "def update_north(x):\n",
    "    w = helpers.Helpers.update_nesw(x)\n",
    "    l = widgets.link((w.children[0], 'value'), (north, 'value'))\n",
    "\n",
    "def update_east(x):\n",
    "    w = helpers.Helpers.update_nesw(x)\n",
    "    l = widgets.link((w.children[0], 'value'), (east, 'value'))\n",
    "\n",
    "def update_south(x):\n",
    "    w = helpers.Helpers.update_nesw(x)\n",
    "    l = widgets.link((w.children[0], 'value'), (south, 'value'))\n",
    "\n",
    "def update_west(x):\n",
    "    w = helpers.Helpers.update_nesw(x)\n",
    "    l = widgets.link((w.children[0], 'value'), (west, 'value'))    \n",
    "    \n",
    "\n",
    "def handle_draw(self, action, geo_json):\n",
    "    w = helpers.Widgets()\n",
    "    s = geo_json.get('geometry','type')\n",
    "    t = s.get('type')\n",
    "\n",
    "    h = herlpers.Helpers(out)\n",
    "    if t == 'Point':\n",
    "        north, east, south, west = h.get_coords_point(action, geo_json)\n",
    "        update_north(north)\n",
    "        update_east(east)\n",
    "        update_south(south)\n",
    "        update_west(west)\n",
    "\n",
    "    if t == 'Polygon':\n",
    "        north, east, south, west = h.get_coords_polygon(action, geo_json)\n",
    "        update_north(north)\n",
    "        update_east(east)\n",
    "        update_south(south)\n",
    "        update_west(west)\n",
    "\n",
    "def update(*args):\n",
    "    subproduct.options = dqbv.get_subproducts_from_product_name(product.value)\n",
    "update()\n",
    "product.observe(update)\n",
    "\n",
    "out = w.display_output()\n",
    "\n",
    "dc.on_draw(handle_draw)\n"
   ]
  },
  {
   "cell_type": "code",
   "execution_count": null,
   "metadata": {
    "hide_input": true
   },
   "outputs": [],
   "source": []
  }
 ],
 "metadata": {
  "celltoolbar": "Initialization Cell",
  "kernelspec": {
   "display_name": "Python 3",
   "language": "python",
   "name": "python3"
  },
  "language_info": {
   "codemirror_mode": {
    "name": "ipython",
    "version": 3
   },
   "file_extension": ".py",
   "mimetype": "text/x-python",
   "name": "python",
   "nbconvert_exporter": "python",
   "pygments_lexer": "ipython3",
   "version": "3.6.8"
  }
 },
 "nbformat": 4,
 "nbformat_minor": 2
}
