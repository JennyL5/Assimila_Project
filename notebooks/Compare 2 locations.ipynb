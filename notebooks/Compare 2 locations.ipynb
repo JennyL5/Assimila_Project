{
 "cells": [
  {
   "cell_type": "markdown",
   "metadata": {},
   "source": [
    "# Compare 2 locations"
   ]
  },
  {
   "cell_type": "code",
   "execution_count": 2,
   "metadata": {
    "editable": false,
    "hide_input": true
   },
   "outputs": [
    {
     "data": {
      "application/vnd.jupyter.widget-view+json": {
       "model_id": "464b856f36904cf6bc69fa4f55f052b8",
       "version_major": 2,
       "version_minor": 0
      },
      "text/plain": [
       "Dropdown(description='Product:', layout=Layout(height='30px', width='400px'), options=('era5', 'tamsat', 'chir…"
      ]
     },
     "metadata": {},
     "output_type": "display_data"
    },
    {
     "data": {
      "application/vnd.jupyter.widget-view+json": {
       "model_id": "57202c938f5c48fe92c1cb4c4857cb64",
       "version_major": 2,
       "version_minor": 0
      },
      "text/plain": [
       "Dropdown(description='Subproduct:', layout=Layout(height='30px', width='400px'), options=(), value=None)"
      ]
     },
     "metadata": {},
     "output_type": "display_data"
    },
    {
     "data": {
      "application/vnd.jupyter.widget-view+json": {
       "model_id": "ce2348e6453240f4a76ffd76c89445c0",
       "version_major": 2,
       "version_minor": 0
      },
      "text/plain": [
       "BoundedFloatText(value=-1.3, description='Latitude 1: ', layout=Layout(height='30px', width='400px'), max=180.…"
      ]
     },
     "metadata": {},
     "output_type": "display_data"
    },
    {
     "data": {
      "application/vnd.jupyter.widget-view+json": {
       "model_id": "720475a1d66b4a4a90eefc1e7f63d4c0",
       "version_major": 2,
       "version_minor": 0
      },
      "text/plain": [
       "BoundedFloatText(value=36.0, description='Longitude 1: ', layout=Layout(height='30px', width='400px'), max=180…"
      ]
     },
     "metadata": {},
     "output_type": "display_data"
    },
    {
     "data": {
      "application/vnd.jupyter.widget-view+json": {
       "model_id": "e43691ece73c4956aa2fb5c494095ae5",
       "version_major": 2,
       "version_minor": 0
      },
      "text/plain": [
       "BoundedFloatText(value=-15.0, description='Latitude 2: ', layout=Layout(height='30px', width='400px'), max=180…"
      ]
     },
     "metadata": {},
     "output_type": "display_data"
    },
    {
     "data": {
      "application/vnd.jupyter.widget-view+json": {
       "model_id": "11abcde8688c46078cb950fb1e55c365",
       "version_major": 2,
       "version_minor": 0
      },
      "text/plain": [
       "BoundedFloatText(value=18.0, description='Longitude 2: ', layout=Layout(height='30px', width='400px'), max=180…"
      ]
     },
     "metadata": {},
     "output_type": "display_data"
    },
    {
     "data": {
      "application/vnd.jupyter.widget-view+json": {
       "model_id": "0b41d654d2784350b6c1359ba3e0ccd0",
       "version_major": 2,
       "version_minor": 0
      },
      "text/plain": [
       "DatePicker(value=datetime.datetime(2018, 1, 1, 0, 0), description='Start date: ', layout=Layout(height='30px',…"
      ]
     },
     "metadata": {},
     "output_type": "display_data"
    },
    {
     "data": {
      "application/vnd.jupyter.widget-view+json": {
       "model_id": "19637d7dc14a4ae7bbf8996fcea9085c",
       "version_major": 2,
       "version_minor": 0
      },
      "text/plain": [
       "IntSlider(value=0, description='Start hour: ', layout=Layout(height='30px', width='400px'), max=23)"
      ]
     },
     "metadata": {},
     "output_type": "display_data"
    },
    {
     "data": {
      "application/vnd.jupyter.widget-view+json": {
       "model_id": "58c1053835e14e2a91970f95fa855c95",
       "version_major": 2,
       "version_minor": 0
      },
      "text/plain": [
       "DatePicker(value=datetime.datetime(2018, 1, 10, 0, 0), description='End date: ', layout=Layout(height='30px', …"
      ]
     },
     "metadata": {},
     "output_type": "display_data"
    },
    {
     "data": {
      "application/vnd.jupyter.widget-view+json": {
       "model_id": "6b799162681547b8bb7b9fb535e22f90",
       "version_major": 2,
       "version_minor": 0
      },
      "text/plain": [
       "IntSlider(value=23, description='End hour: ', layout=Layout(height='30px', width='400px'), max=23)"
      ]
     },
     "metadata": {},
     "output_type": "display_data"
    },
    {
     "data": {
      "application/vnd.jupyter.widget-view+json": {
       "model_id": "47e10e14413949f3bd7b4c81dfa50ab7",
       "version_major": 2,
       "version_minor": 0
      },
      "text/plain": [
       "LoadedButton(button_style='primary', description='Get Data', layout=Layout(height='30px', width='400px'), styl…"
      ]
     },
     "metadata": {},
     "output_type": "display_data"
    },
    {
     "data": {
      "application/vnd.jupyter.widget-view+json": {
       "model_id": "a17cd698e6f84f488fdc0345042e1313",
       "version_major": 2,
       "version_minor": 0
      },
      "text/plain": [
       "Output()"
      ]
     },
     "metadata": {},
     "output_type": "display_data"
    }
   ],
   "source": [
    "import sys\n",
    "sys.path.append(\"../helpers/\")\n",
    "import helpers\n",
    "from src.datacube.dq_database.db_view import DQDataBaseView\n",
    "\n",
    "import datetime\n",
    "dqbv = DQDataBaseView()\n",
    "\n",
    "def on_button_clicked(b):\n",
    "    h = helpers.Helpers(out)\n",
    "    m1 = h.compare_two_locations(product.value, subproduct.value, lat1.value, lon1.value, lat2.value, lon2.value,\n",
    "                                                  start_date, start_hour, end_date, end_hour)\n",
    "\n",
    "#widgets \n",
    "w = helpers.Widgets()\n",
    "product = w.get_all_products()\n",
    "subproduct = w.subproduct()\n",
    "lat1 = w.get_point(-1.3, 'Latitude 1: ')\n",
    "lon1 = w.get_point(36, 'Longitude 1: ')\n",
    "lat2 = w.get_point(-15.0, 'Latitude 2: ')\n",
    "lon2 = w.get_point(18.0, 'Longitude 2: ')\n",
    "start_date = w.get_date(datetime.datetime(2018,1,1), 'Start date: ')\n",
    "start_hour = w.get_hour('00', 'Start hour: ')\n",
    "end_date = w.get_date(datetime.datetime(2018,1,10), 'End date: ')\n",
    "end_hour = w.get_hour('23', 'End hour: ')\n",
    "button = w.set_up_button(on_button_clicked)\n",
    "w.display_widget([product, subproduct, lat1, lon1, lat2, lon2, start_date, start_hour, end_date, end_hour, button])\n",
    "out = w.display_output()\n",
    "\n",
    "def update(*args):\n",
    "    subproduct.options = dqbv.get_subproducts_from_product_name(product.value)\n",
    "update()\n",
    "product.observe(update)\n"
   ]
  }
 ],
 "metadata": {
  "celltoolbar": "Edit Metadata",
  "kernelspec": {
   "display_name": "Python 3",
   "language": "python",
   "name": "python3"
  },
  "language_info": {
   "codemirror_mode": {
    "name": "ipython",
    "version": 3
   },
   "file_extension": ".py",
   "mimetype": "text/x-python",
   "name": "python",
   "nbconvert_exporter": "python",
   "pygments_lexer": "ipython3",
   "version": "3.6.8"
  }
 },
 "nbformat": 4,
 "nbformat_minor": 2
}
