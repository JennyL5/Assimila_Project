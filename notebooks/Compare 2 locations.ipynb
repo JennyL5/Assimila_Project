{
 "cells": [
  {
   "cell_type": "markdown",
   "metadata": {},
   "source": [
    "# Compare 2 locations"
   ]
  },
  {
   "cell_type": "code",
   "execution_count": 3,
   "metadata": {
    "hide_input": true
   },
   "outputs": [
    {
     "data": {
      "application/vnd.jupyter.widget-view+json": {
       "model_id": "6d0826adeab347bd8a7c5bf11924afac",
       "version_major": 2,
       "version_minor": 0
      },
      "text/plain": [
       "Dropdown(description='Product:', layout=Layout(height='30px', width='400px'), options=('era5', 'tamsat', 'chir…"
      ]
     },
     "metadata": {},
     "output_type": "display_data"
    },
    {
     "data": {
      "application/vnd.jupyter.widget-view+json": {
       "model_id": "76b536b16bc0410eb8ff1755c64aa6f0",
       "version_major": 2,
       "version_minor": 0
      },
      "text/plain": [
       "Dropdown(description='Subproduct:', layout=Layout(height='30px', width='400px'), options=(), value=None)"
      ]
     },
     "metadata": {},
     "output_type": "display_data"
    },
    {
     "data": {
      "application/vnd.jupyter.widget-view+json": {
       "model_id": "379ff1d5f5b14974978240b6e0d4b608",
       "version_major": 2,
       "version_minor": 0
      },
      "text/plain": [
       "BoundedFloatText(value=-1.3, description='Latitude 1: ', layout=Layout(height='30px', width='400px'), max=180.…"
      ]
     },
     "metadata": {},
     "output_type": "display_data"
    },
    {
     "data": {
      "application/vnd.jupyter.widget-view+json": {
       "model_id": "052306c6852e46428de9a20459c3b9fa",
       "version_major": 2,
       "version_minor": 0
      },
      "text/plain": [
       "BoundedFloatText(value=36.0, description='Longitude 1: ', layout=Layout(height='30px', width='400px'), max=180…"
      ]
     },
     "metadata": {},
     "output_type": "display_data"
    },
    {
     "data": {
      "application/vnd.jupyter.widget-view+json": {
       "model_id": "e96749fe4ec94e0bb22887e892008986",
       "version_major": 2,
       "version_minor": 0
      },
      "text/plain": [
       "BoundedFloatText(value=-15.0, description='Latitude 2: ', layout=Layout(height='30px', width='400px'), max=180…"
      ]
     },
     "metadata": {},
     "output_type": "display_data"
    },
    {
     "data": {
      "application/vnd.jupyter.widget-view+json": {
       "model_id": "fcf7916ec2644f8aac0f4e82492f0676",
       "version_major": 2,
       "version_minor": 0
      },
      "text/plain": [
       "BoundedFloatText(value=18.0, description='Longitude 2: ', layout=Layout(height='30px', width='400px'), max=180…"
      ]
     },
     "metadata": {},
     "output_type": "display_data"
    },
    {
     "data": {
      "application/vnd.jupyter.widget-view+json": {
       "model_id": "54ddb88fa82b401591fb0c529b18bd87",
       "version_major": 2,
       "version_minor": 0
      },
      "text/plain": [
       "DatePicker(value=datetime.datetime(2018, 1, 1, 0, 0), description='Start date: ', layout=Layout(height='30px',…"
      ]
     },
     "metadata": {},
     "output_type": "display_data"
    },
    {
     "data": {
      "application/vnd.jupyter.widget-view+json": {
       "model_id": "8e58b39019d743718bcbbec0c7bec9e3",
       "version_major": 2,
       "version_minor": 0
      },
      "text/plain": [
       "IntSlider(value=0, description='Start hour: ', layout=Layout(height='30px', width='400px'), max=23)"
      ]
     },
     "metadata": {},
     "output_type": "display_data"
    },
    {
     "data": {
      "application/vnd.jupyter.widget-view+json": {
       "model_id": "fb38eff6c69947c196c8728f328b50a0",
       "version_major": 2,
       "version_minor": 0
      },
      "text/plain": [
       "DatePicker(value=datetime.datetime(2018, 1, 10, 0, 0), description='End date: ', layout=Layout(height='30px', …"
      ]
     },
     "metadata": {},
     "output_type": "display_data"
    },
    {
     "data": {
      "application/vnd.jupyter.widget-view+json": {
       "model_id": "eea13256ec3e41f9a65ab3a13ebd46a9",
       "version_major": 2,
       "version_minor": 0
      },
      "text/plain": [
       "IntSlider(value=23, description='End hour: ', layout=Layout(height='30px', width='400px'), max=23)"
      ]
     },
     "metadata": {},
     "output_type": "display_data"
    },
    {
     "data": {
      "application/vnd.jupyter.widget-view+json": {
       "model_id": "f9f2e704c21b478b849c85b563731a76",
       "version_major": 2,
       "version_minor": 0
      },
      "text/plain": [
       "LoadedButton(button_style='primary', description='Get Data', layout=Layout(height='30px', width='400px'), styl…"
      ]
     },
     "metadata": {},
     "output_type": "display_data"
    },
    {
     "data": {
      "application/vnd.jupyter.widget-view+json": {
       "model_id": "82b0a4e6ff29477b81161b8dd996313a",
       "version_major": 2,
       "version_minor": 0
      },
      "text/plain": [
       "Output()"
      ]
     },
     "metadata": {},
     "output_type": "display_data"
    }
   ],
   "source": [
    "import sys\n",
    "sys.path.append(\"../helpers/\")\n",
    "import helpers\n",
    "from src.datacube.dq_database.db_view import DQDataBaseView\n",
    "\n",
    "import datetime\n",
    "dqbv = DQDataBaseView()\n",
    "\n",
    "def on_button_clicked(b):\n",
    "    h = helpers.Helpers(out)\n",
    "    m1 = h.compare_two_locations(product.value, subproduct.value, lat1.value, lon1.value, lat2.value, lon2.value,\n",
    "                                                  start_date, start_hour, end_date, end_hour)\n",
    "\n",
    "#widgets \n",
    "w = helpers.Widgets()\n",
    "product = w.get_all_products()\n",
    "subproduct = w.subproduct()\n",
    "lat1 = w.get_point(-1.3, 'Latitude 1: ')\n",
    "lon1 = w.get_point(36, 'Longitude 1: ')\n",
    "lat2 = w.get_point(-15.0, 'Latitude 2: ')\n",
    "lon2 = w.get_point(18.0, 'Longitude 2: ')\n",
    "start_date = w.get_date(datetime.datetime(2018,1,1), 'Start date: ')\n",
    "start_hour = w.get_hour('00', 'Start hour: ')\n",
    "end_date = w.get_date(datetime.datetime(2018,1,10), 'End date: ')\n",
    "end_hour = w.get_hour('23', 'End hour: ')\n",
    "button = w.set_up_button(on_button_clicked)\n",
    "w.display_widget([product, subproduct, lat1, lon1, lat2, lon2, start_date, start_hour, end_date, end_hour, button])\n",
    "out = w.display_output()\n",
    "\n",
    "def update(*args):\n",
    "    subproduct.options = dqbv.get_subproducts_from_product_name(product.value)\n",
    "update()\n",
    "product.observe(update)\n"
   ]
  },
  {
   "cell_type": "code",
   "execution_count": null,
   "metadata": {
    "hide_input": false
   },
   "outputs": [],
   "source": []
  }
 ],
 "metadata": {
  "kernelspec": {
   "display_name": "Python 3",
   "language": "python",
   "name": "python3"
  },
  "language_info": {
   "codemirror_mode": {
    "name": "ipython",
    "version": 3
   },
   "file_extension": ".py",
   "mimetype": "text/x-python",
   "name": "python",
   "nbconvert_exporter": "python",
   "pygments_lexer": "ipython3",
   "version": "3.6.8"
  }
 },
 "nbformat": 4,
 "nbformat_minor": 2
}
