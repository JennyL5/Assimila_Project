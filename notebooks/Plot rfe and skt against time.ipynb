{
 "cells": [
  {
   "cell_type": "markdown",
   "metadata": {
    "hide_input": false
   },
   "source": [
    "# Plot rfe and skt against time "
   ]
  },
  {
   "cell_type": "code",
   "execution_count": 3,
   "metadata": {
    "hide_input": true,
    "init_cell": true
   },
   "outputs": [
    {
     "data": {
      "application/vnd.jupyter.widget-view+json": {
       "model_id": "04c7921de931494ba1949aef985f5316",
       "version_major": 2,
       "version_minor": 0
      },
      "text/plain": [
       "BoundedFloatText(value=7.5, description='Latitude (y):', layout=Layout(height='30px', width='400px'), max=90.0…"
      ]
     },
     "metadata": {},
     "output_type": "display_data"
    },
    {
     "data": {
      "application/vnd.jupyter.widget-view+json": {
       "model_id": "3b9dd1b65e6a49168d072daa8eff0545",
       "version_major": 2,
       "version_minor": 0
      },
      "text/plain": [
       "BoundedFloatText(value=7.5, description='Longitude (x):', layout=Layout(height='30px', width='400px'), max=180…"
      ]
     },
     "metadata": {},
     "output_type": "display_data"
    },
    {
     "data": {
      "application/vnd.jupyter.widget-view+json": {
       "model_id": "587c6767ecd043be95bc93ba88dfcb5e",
       "version_major": 2,
       "version_minor": 0
      },
      "text/plain": [
       "DatePicker(value=datetime.datetime(2000, 1, 1, 0, 0), description='Start Date: ', layout=Layout(height='30px',…"
      ]
     },
     "metadata": {},
     "output_type": "display_data"
    },
    {
     "data": {
      "application/vnd.jupyter.widget-view+json": {
       "model_id": "22843d2e5e704618a3cb560860379a47",
       "version_major": 2,
       "version_minor": 0
      },
      "text/plain": [
       "DatePicker(value=datetime.datetime(2000, 2, 1, 0, 0), description='EndDate: ', layout=Layout(height='30px', wi…"
      ]
     },
     "metadata": {},
     "output_type": "display_data"
    },
    {
     "data": {
      "application/vnd.jupyter.widget-view+json": {
       "model_id": "9ea063e01e044bd88bfdc59b87f66b6f",
       "version_major": 2,
       "version_minor": 0
      },
      "text/plain": [
       "LoadedButton(button_style='primary', description='Get Data', layout=Layout(height='30px', width='400px'), styl…"
      ]
     },
     "metadata": {},
     "output_type": "display_data"
    },
    {
     "data": {
      "application/vnd.jupyter.widget-view+json": {
       "model_id": "761b48e5bb0b442cb9a8eb805b86c9e7",
       "version_major": 2,
       "version_minor": 0
      },
      "text/plain": [
       "Output()"
      ]
     },
     "metadata": {},
     "output_type": "display_data"
    }
   ],
   "source": [
    "import sys\n",
    "sys.path.append(\"../helpers/\")\n",
    "import helpers\n",
    "\n",
    "def on_button_clicked(b):\n",
    "    h = helpers.Helpers(out)\n",
    "    h.compare_rfe_skt_time(longitude.value, latitude.value, start.value, end.value)\n",
    "\n",
    "#widgets \n",
    "w = helpers.Widgets()\n",
    "latitude, longitude = w.get_lat_lon_widgets()\n",
    "start = w.start_date()\n",
    "end = w.end_date()\n",
    "button = w.set_up_button(on_button_clicked)\n",
    "w.display_widget([latitude, longitude, start, end, button])\n",
    "out = w.display_output()"
   ]
  },
  {
   "cell_type": "code",
   "execution_count": null,
   "metadata": {},
   "outputs": [],
   "source": []
  }
 ],
 "metadata": {
  "celltoolbar": "Initialization Cell",
  "kernelspec": {
   "display_name": "Python 3",
   "language": "python",
   "name": "python3"
  },
  "language_info": {
   "codemirror_mode": {
    "name": "ipython",
    "version": 3
   },
   "file_extension": ".py",
   "mimetype": "text/x-python",
   "name": "python",
   "nbconvert_exporter": "python",
   "pygments_lexer": "ipython3",
   "version": "3.6.8"
  }
 },
 "nbformat": 4,
 "nbformat_minor": 2
}
