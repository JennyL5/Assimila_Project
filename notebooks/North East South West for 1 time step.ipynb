{
 "cells": [
  {
   "cell_type": "markdown",
   "metadata": {
    "hide_input": false
   },
   "source": [
    "# Notebook for displaying North East South West for 1 time step"
   ]
  },
  {
   "cell_type": "code",
   "execution_count": 2,
   "metadata": {
    "hide_input": true,
    "init_cell": true
   },
   "outputs": [
    {
     "data": {
      "application/vnd.jupyter.widget-view+json": {
       "model_id": "",
       "version_major": 2,
       "version_minor": 0
      },
      "text/plain": [
       "Dropdown(description='Product:', layout=Layout(height='30px', width='400px'), options=('era5', 'tamsat', 'chir…"
      ]
     },
     "metadata": {},
     "output_type": "display_data"
    },
    {
     "data": {
      "application/vnd.jupyter.widget-view+json": {
       "model_id": "",
       "version_major": 2,
       "version_minor": 0
      },
      "text/plain": [
       "Dropdown(description='Subproduct:', layout=Layout(height='30px', width='400px'), options=(), value=None)"
      ]
     },
     "metadata": {},
     "output_type": "display_data"
    },
    {
     "data": {
      "application/vnd.jupyter.widget-view+json": {
       "model_id": "",
       "version_major": 2,
       "version_minor": 0
      },
      "text/plain": [
       "BoundedFloatText(value=38.0, description='North: ', layout=Layout(height='30px', width='400px'), max=90.0, min…"
      ]
     },
     "metadata": {},
     "output_type": "display_data"
    },
    {
     "data": {
      "application/vnd.jupyter.widget-view+json": {
       "model_id": "",
       "version_major": 2,
       "version_minor": 0
      },
      "text/plain": [
       "BoundedFloatText(value=53.0, description='East: ', layout=Layout(height='30px', width='400px'), max=180.0, min…"
      ]
     },
     "metadata": {},
     "output_type": "display_data"
    },
    {
     "data": {
      "application/vnd.jupyter.widget-view+json": {
       "model_id": "",
       "version_major": 2,
       "version_minor": 0
      },
      "text/plain": [
       "BoundedFloatText(value=-36.0, description='South: ', layout=Layout(height='30px', width='400px'), max=90.0, mi…"
      ]
     },
     "metadata": {},
     "output_type": "display_data"
    },
    {
     "data": {
      "application/vnd.jupyter.widget-view+json": {
       "model_id": "",
       "version_major": 2,
       "version_minor": 0
      },
      "text/plain": [
       "BoundedFloatText(value=-19.0, description='West: ', layout=Layout(height='30px', width='400px'), max=180.0, mi…"
      ]
     },
     "metadata": {},
     "output_type": "display_data"
    },
    {
     "data": {
      "application/vnd.jupyter.widget-view+json": {
       "model_id": "",
       "version_major": 2,
       "version_minor": 0
      },
      "text/plain": [
       "DatePicker(value=datetime.datetime(2018, 1, 1, 0, 0), description='Date: ', layout=Layout(height='30px', width…"
      ]
     },
     "metadata": {},
     "output_type": "display_data"
    },
    {
     "data": {
      "application/vnd.jupyter.widget-view+json": {
       "model_id": "",
       "version_major": 2,
       "version_minor": 0
      },
      "text/plain": [
       "IntSlider(value=0, description='Hour: ', layout=Layout(height='30px', width='400px'), max=23)"
      ]
     },
     "metadata": {},
     "output_type": "display_data"
    },
    {
     "data": {
      "application/vnd.jupyter.widget-view+json": {
       "model_id": "",
       "version_major": 2,
       "version_minor": 0
      },
      "text/plain": [
       "LoadedButton(button_style='primary', description='Get Data', layout=Layout(height='30px', width='400px'), styl…"
      ]
     },
     "metadata": {},
     "output_type": "display_data"
    },
    {
     "data": {
      "application/vnd.jupyter.widget-view+json": {
       "model_id": "",
       "version_major": 2,
       "version_minor": 0
      },
      "text/plain": [
       "Output()"
      ]
     },
     "metadata": {},
     "output_type": "display_data"
    }
   ],
   "source": [
    "import sys\n",
    "sys.path.append(\"../helpers/\")\n",
    "import helpers\n",
    "from src.datacube.dq_database.db_view import DQDataBaseView\n",
    "\n",
    "dqbv = DQDataBaseView()\n",
    "\n",
    "def on_button_clicked(b):\n",
    "    \n",
    "    #call methods\n",
    "    h = helpers.Helpers(out)\n",
    "    h.color_map_nesw(product.value, subproduct.value, north.value,east.value, south.value, west.value,\n",
    "                                                  date, hour)\n",
    "\n",
    "w = helpers.Widgets()\n",
    "product = w.get_all_products()\n",
    "subproduct = w.subproduct()\n",
    "north = w.get_north()\n",
    "east = w.get_east()\n",
    "south = w.get_south()\n",
    "west = w.get_west()\n",
    "date = w.get_date()\n",
    "hour = w.get_hour()\n",
    "button = w.set_up_button(on_button_clicked)\n",
    "w.display_widget([product, subproduct, north, east, south, west, date, hour, button])\n",
    "\n",
    "\n",
    "def update(*args):\n",
    "    subproduct.options = dqbv.get_subproducts_from_product_name(product.value)\n",
    "update()\n",
    "product.observe(update)\n",
    "\n",
    "out = w.display_output()"
   ]
  },
  {
   "cell_type": "code",
   "execution_count": null,
   "metadata": {
    "hide_input": false
   },
   "outputs": [],
   "source": []
  }
 ],
 "metadata": {
  "celltoolbar": "Initialization Cell",
  "kernelspec": {
   "display_name": "Python 3",
   "language": "python",
   "name": "python3"
  },
  "language_info": {
   "codemirror_mode": {
    "name": "ipython",
    "version": 3
   },
   "file_extension": ".py",
   "mimetype": "text/x-python",
   "name": "python",
   "nbconvert_exporter": "python",
   "pygments_lexer": "ipython3",
   "version": "3.6.8"
  }
 },
 "nbformat": 4,
 "nbformat_minor": 2
}
